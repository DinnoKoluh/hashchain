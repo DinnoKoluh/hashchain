{
 "cells": [
  {
   "cell_type": "code",
   "execution_count": 1,
   "metadata": {},
   "outputs": [],
   "source": [
    "%load_ext autoreload\n",
    "%autoreload 2\n",
    "\n",
    "# import os\n",
    "# os.chdir(\"../classes\")\n",
    "from BC import *\n",
    "from Net import *\n",
    "from Tx import *\n",
    "# os.chdir(\"../testing\")\n",
    "import hashlib\n",
    "import time\n",
    "import sys\n",
    "\n",
    "# from datetime import datetime\n",
    "# timestamp = time.time()\n",
    "# print(datetime.fromtimestamp(timestamp))"
   ]
  },
  {
   "cell_type": "code",
   "execution_count": 2,
   "metadata": {},
   "outputs": [
    {
     "name": "stdout",
     "output_type": "stream",
     "text": [
      "Block has been mined successfully! \n",
      "Time taken: 0.06795883178710938\n",
      "Transaction has been successfully signed!\n"
     ]
    },
    {
     "data": {
      "text/plain": [
       "True"
      ]
     },
     "execution_count": 2,
     "metadata": {},
     "output_type": "execute_result"
    }
   ],
   "source": [
    "network = Network()\n",
    "acc1 = Account()\n",
    "acc2 = Account()\n",
    "network.addAccount(acc1)\n",
    "network.addAccount(acc2)\n",
    "bc = BlockChain(network)\n",
    "tx1 = Transaction(acc1.address, acc2.address, 10) # create transaction\n",
    "tx1.signTx(acc1.key_pair) # sign tx by \"from\" account"
   ]
  },
  {
   "cell_type": "code",
   "execution_count": 3,
   "metadata": {},
   "outputs": [
    {
     "name": "stdout",
     "output_type": "stream",
     "text": [
      "8543aa152add01b047a60474f4ce1b12faabc1f7bb4dd950ee02cfd9991b17f9\n",
      "f4c97d01a2aa7336c4c2f7e6eacd34b04ed618eeb34e1f350f5c9869e1ee0c01\n",
      "Transaction signature is valid!\n",
      "Transaction successfully added! \n",
      "Tx type ordinary\n",
      "Tx type: ordinary \n",
      "From: 8543aa152add01b047a60474f4ce1b12faabc1f7bb4dd950ee02cfd9991b17f9 \n",
      "To: f4c97d01a2aa7336c4c2f7e6eacd34b04ed618eeb34e1f350f5c9869e1ee0c01 \n",
      "Amount: 10\n"
     ]
    }
   ],
   "source": [
    "print(acc1.address)\n",
    "print(acc2.address)\n",
    "tx1.isTxValid()\n",
    "bc.addTransaction(tx1)\n",
    "bc.printPendingTxInfo()"
   ]
  },
  {
   "cell_type": "code",
   "execution_count": 4,
   "metadata": {},
   "outputs": [
    {
     "data": {
      "text/plain": [
       "100"
      ]
     },
     "execution_count": 4,
     "metadata": {},
     "output_type": "execute_result"
    }
   ],
   "source": [
    "acc1.increaseBalance(100)\n",
    "acc1.getBalance()"
   ]
  },
  {
   "cell_type": "code",
   "execution_count": 6,
   "metadata": {},
   "outputs": [
    {
     "name": "stdout",
     "output_type": "stream",
     "text": [
      "Tx type: mining \n",
      "From: None \n",
      "To: f4c97d01a2aa7336c4c2f7e6eacd34b04ed618eeb34e1f350f5c9869e1ee0c01 \n",
      "Amount: 100\n",
      "90\n",
      "10\n",
      "Block has been mined successfully! \n",
      "Time taken: 0.015991687774658203\n",
      "New block with ID:2 has been added to the blockchain!\n",
      "Transaction successfully added! \n",
      "Tx type mining\n",
      "90\n",
      "110\n"
     ]
    },
    {
     "data": {
      "text/plain": [
       "'GENESIS BLOCK'"
      ]
     },
     "execution_count": 6,
     "metadata": {},
     "output_type": "execute_result"
    }
   ],
   "source": [
    "bc.printPendingTxInfo()\n",
    "print(acc1.getBalance())\n",
    "print(acc2.getBalance())\n",
    "bc.minePendingTransaction(acc2.address)\n",
    "print(acc1.getBalance())\n",
    "print(acc2.getBalance())\n",
    "bc.chain[0].data"
   ]
  },
  {
   "cell_type": "code",
   "execution_count": 7,
   "metadata": {},
   "outputs": [
    {
     "name": "stdout",
     "output_type": "stream",
     "text": [
      "Transaction successfully added! \n",
      "Tx type ordinary\n"
     ]
    },
    {
     "data": {
      "text/plain": [
       "True"
      ]
     },
     "execution_count": 7,
     "metadata": {},
     "output_type": "execute_result"
    }
   ],
   "source": [
    "bc.addTransaction(Transaction(acc1.address, acc2.address, 40))"
   ]
  },
  {
   "cell_type": "code",
   "execution_count": 8,
   "metadata": {},
   "outputs": [
    {
     "name": "stdout",
     "output_type": "stream",
     "text": [
      "Tx type: mining \n",
      "From: None \n",
      "To: f4c97d01a2aa7336c4c2f7e6eacd34b04ed618eeb34e1f350f5c9869e1ee0c01 \n",
      "Amount: 100\n",
      "Tx type: ordinary \n",
      "From: 8543aa152add01b047a60474f4ce1b12faabc1f7bb4dd950ee02cfd9991b17f9 \n",
      "To: f4c97d01a2aa7336c4c2f7e6eacd34b04ed618eeb34e1f350f5c9869e1ee0c01 \n",
      "Amount: 40\n",
      "Transaction has been successfully signed!\n",
      "Transaction signature is valid!\n"
     ]
    },
    {
     "data": {
      "text/plain": [
       "True"
      ]
     },
     "execution_count": 8,
     "metadata": {},
     "output_type": "execute_result"
    }
   ],
   "source": [
    "bc.printPendingTxInfo()\n",
    "bc.pending_txs[1].signTx(acc1.getKeys())\n",
    "bc.pending_txs[1].isTxValid()"
   ]
  },
  {
   "cell_type": "code",
   "execution_count": 9,
   "metadata": {},
   "outputs": [
    {
     "name": "stdout",
     "output_type": "stream",
     "text": [
      "Tx type: ordinary \n",
      "From: 8543aa152add01b047a60474f4ce1b12faabc1f7bb4dd950ee02cfd9991b17f9 \n",
      "To: f4c97d01a2aa7336c4c2f7e6eacd34b04ed618eeb34e1f350f5c9869e1ee0c01 \n",
      "Amount: 40\n",
      "Transaction signature is valid!\n"
     ]
    },
    {
     "data": {
      "text/plain": [
       "True"
      ]
     },
     "execution_count": 9,
     "metadata": {},
     "output_type": "execute_result"
    }
   ],
   "source": [
    "bc.pending_txs[1].printTxInfo()\n",
    "bc.pending_txs[1].isTxValid()"
   ]
  },
  {
   "cell_type": "code",
   "execution_count": null,
   "metadata": {},
   "outputs": [],
   "source": [
    "for block in bc.chain:\n",
    "    block.getBlockInfo()\n",
    "    print(\"\\n\")\n",
    "print(bc.isChainValid())"
   ]
  },
  {
   "cell_type": "code",
   "execution_count": 9,
   "metadata": {},
   "outputs": [
    {
     "name": "stdout",
     "output_type": "stream",
     "text": [
      "98b4a863e7f04f1a4bc9390b04333da64ad7a4ba7e0aa6554b194f45c5628266\n",
      "562bf41cc1c48cef771eaca73c392f53c162afd9609e9f8837676e1840098b60\n"
     ]
    }
   ],
   "source": [
    "acc1 = Account()\n",
    "acc2 = Account()\n",
    "print(acc1.address)\n",
    "print(acc2.address)"
   ]
  }
 ],
 "metadata": {
  "kernelspec": {
   "display_name": "bc_venv",
   "language": "python",
   "name": "python3"
  },
  "language_info": {
   "codemirror_mode": {
    "name": "ipython",
    "version": 3
   },
   "file_extension": ".py",
   "mimetype": "text/x-python",
   "name": "python",
   "nbconvert_exporter": "python",
   "pygments_lexer": "ipython3",
   "version": "3.9.7"
  },
  "orig_nbformat": 4,
  "vscode": {
   "interpreter": {
    "hash": "2401cd2752f2cec4107b2d3262780f9954ec1223eab2277bb60ce0343b5517d2"
   }
  }
 },
 "nbformat": 4,
 "nbformat_minor": 2
}
